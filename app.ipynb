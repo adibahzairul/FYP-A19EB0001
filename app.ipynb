{
 "cells": [
  {
   "cell_type": "code",
   "execution_count": 1,
   "id": "119f38a5",
   "metadata": {},
   "outputs": [],
   "source": [
    "import requests\n",
    "import streamlit as st\n",
    "from streamlit_lottie import st_lottie"
   ]
  },
  {
   "cell_type": "code",
   "execution_count": 2,
   "id": "3d564921",
   "metadata": {},
   "outputs": [],
   "source": [
    "import joblib"
   ]
  },
  {
   "cell_type": "code",
   "execution_count": 3,
   "id": "100576a3",
   "metadata": {},
   "outputs": [],
   "source": [
    "import numpy as np\n",
    "import pandas as pd\n",
    "import seaborn as sns\n",
    "import matplotlib.pyplot as plt\n",
    "from PIL import Image"
   ]
  },
  {
   "cell_type": "code",
   "execution_count": 4,
   "id": "330f70b5",
   "metadata": {},
   "outputs": [],
   "source": [
    "def load_lottieurl(url):\n",
    "    r = requests.get(url)\n",
    "    if r.status_code != 200:\n",
    "        return None\n",
    "    return r.json()"
   ]
  },
  {
   "cell_type": "code",
   "execution_count": 5,
   "id": "c6ed1940",
   "metadata": {},
   "outputs": [
    {
     "name": "stderr",
     "output_type": "stream",
     "text": [
      "2023-07-22 23:17:00.829 \n",
      "  \u001b[33m\u001b[1mWarning:\u001b[0m to view this Streamlit app on a browser, run it with the following\n",
      "  command:\n",
      "\n",
      "    streamlit run C:\\Users\\adiba\\anaconda3\\lib\\site-packages\\ipykernel_launcher.py [ARGUMENTS]\n"
     ]
    }
   ],
   "source": [
    "utm = Image.open(\"Logo/UTM.png\")\n",
    "meditec = Image.open(\"Logo/MEDiTEC.png\")\n",
    "ihumen = Image.open(\"Logo/iHumEn.png\")\n",
    "leftmost, middle1, middle2, right, rightmost = st.columns(5)\n",
    "fyptitle = 'Prediction of Quercetin Bioactivity on Specific Cancer Receptors Using Machine Learning'\n",
    "drug = 'Drug Details'\n",
    "target = 'Target Details'\n",
    "active = 'Prediction: This interaction is active'\n",
    "inactive = 'Prediction: This interaction is inactive'\n",
    "intermediate = 'Prediction: This interaction is intermediate'\n",
    "model = 'XGBoost Classifier (XGBC)'\n",
    "name = 'Adibah binti Zairul Nisha (A19EB0001)'\n",
    "data = pd.read_csv('Training  Dataset.csv')\n",
    "gif = 'https://assets2.lottiefiles.com/packages/lf20_qufi1zre.json'\n",
    "\n",
    "with st.container():\n",
    "    with leftmost:\n",
    "        st.image(utm)\n",
    "    \n",
    "    with right:\n",
    "        st.image(ihumen)\n",
    "    \n",
    "    with rightmost:\n",
    "        st.image(meditec)\n",
    "        \n",
    "with st.container():\n",
    "    st.title(\"Prediction of Quercetin Bioactivity \")\n",
    "    st.write(f\"This webpage was created as a part of a study titled **{fyptitle}** for Final Year Project 2 (FYP2) 2022/2023-2\")\n",
    "    st.write(f\"Developed by: **{name}**\")\n",
    "\n",
    "with st.container():\n",
    "    st.write('---')\n",
    "    \n",
    "    st.write(f'This webpage will predict the bioactivity of protein-ligand complex via **{model}** algorithm')\n",
    "    if st.checkbox('Show Training Dataset'):\n",
    "        data\n",
    "\n",
    "\n",
    "#st.header(\"Quercetin Bioactivity Prediction Webpage\")\n",
    "with st.container():\n",
    "    st.write(\"---\")\n",
    "    left, right = st.columns(2)\n",
    "    \n",
    "    with left:\n",
    "        st.write (f\"**{target}**\")\n",
    "        V = int(st.number_input(\"Valine\", min_value=0))\n",
    "        H = int(st.number_input(\"Histidine\", min_value=0))\n",
    "        K = int(st.number_input(\"Lysine\", min_value=0))\n",
    "        S = int(st.number_input(\"Serine\",min_value=0))\n",
    "        M = int(st.number_input(\"Methionine\",min_value=0))\n",
    "    \n",
    "    with right:\n",
    "        st.write(f\"**{drug}**\")\n",
    "        NumHDonors = int(st.number_input(\"Number of Hydrogen Donors\",min_value=0))\n",
    "        NumHeteroatoms = int(st.number_input(\"Number of Heteroatoms\", min_value=0))\n",
    "        ExactMolWt = float(st.number_input(\"Molecular Weight\",min_value=0))\n",
    "        NumSaturatedCarbocycles = int(st.number_input(\"Number of Saturated Carbocycles\",min_value=0))\n",
    "        NumSaturatedRings = int(st.number_input(\"Number of Saturated Rings\", min_value=0))\n",
    "\n",
    "\n",
    "# If button is pressed\n",
    "if st.button(\"Submit\"):\n",
    "    \n",
    "    # Unpickle classifier\n",
    "    xgbc = joblib.load(\"xgbc.pkl\")\n",
    "    \n",
    "    # Store inputs into dataframe\n",
    "    X = pd.DataFrame([[V,H,NumHDonors,NumHeteroatoms,ExactMolWt,K,S,NumSaturatedCarbocycles,M,NumSaturatedRings]], \n",
    "                     columns = [\"V\", \"H\", \"NumHDonors\",\"NumHeteroatoms\",\"ExactMolWt\",\"K\",'S',\"NumSaturatedCarbocycles\",\"M\",\"NumSaturatedRings\"])\n",
    "    \n",
    "    # Get prediction\n",
    "    prediction = xgbc.predict(X)[0]\n",
    "    \n",
    "    with st.container():\n",
    "        \n",
    "        st.write('---')\n",
    "\n",
    "        bottomleft, bottomright = st.columns((3,2))\n",
    "\n",
    "        with bottomleft:\n",
    "            # Output prediction\n",
    "            if (prediction == 0):\n",
    "                st.write(f'<p style=\"font-family:Courier;font-size:30px;color:green;\">{active}</p>', unsafe_allow_html=True)\n",
    "            \n",
    "            if (prediction == 1):\n",
    "                st.write(f'<p style=\"font-family:Courier;font-size:30px;color:red;\">{inactive}</p>', unsafe_allow_html=True)\n",
    "        \n",
    "            if (prediction == 2):\n",
    "                st.write(f'<p style=\"font-family:Courier;font-size:30px;color:orange;\">{active}</p>', unsafe_allow_html=True)\n",
    "        \n",
    "        with bottomright:\n",
    "            st.lottie(gif)\n",
    "            \n",
    "with st.container():\n",
    "    st.write('---')\n",
    "    st.write(f\"**{fyptitle}**\")\n",
    "    st.write(f\"Developed by: **{name}** for Final Year Project 2 (FYP2) 2022/2023-2\")"
   ]
  },
  {
   "cell_type": "raw",
   "id": "a4040b52",
   "metadata": {},
   "source": []
  }
 ],
 "metadata": {
  "kernelspec": {
   "display_name": "Python 3 (ipykernel)",
   "language": "python",
   "name": "python3"
  },
  "language_info": {
   "codemirror_mode": {
    "name": "ipython",
    "version": 3
   },
   "file_extension": ".py",
   "mimetype": "text/x-python",
   "name": "python",
   "nbconvert_exporter": "python",
   "pygments_lexer": "ipython3",
   "version": "3.9.12"
  }
 },
 "nbformat": 4,
 "nbformat_minor": 5
}
